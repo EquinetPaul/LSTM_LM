{
 "cells": [
  {
   "cell_type": "code",
   "execution_count": 1,
   "id": "ec2b3011-7763-4756-b908-1b361e5c4798",
   "metadata": {},
   "outputs": [
    {
     "name": "stderr",
     "output_type": "stream",
     "text": [
      "H:\\anaconda3\\envs\\nlp\\lib\\site-packages\\requests\\__init__.py:102: RequestsDependencyWarning: urllib3 (1.26.14) or chardet (5.1.0)/charset_normalizer (2.0.12) doesn't match a supported version!\n",
      "  warnings.warn(\"urllib3 ({}) or chardet ({})/charset_normalizer ({}) doesn't match a supported \"\n"
     ]
    }
   ],
   "source": [
    "import logging\n",
    "logging.basicConfig(level=logging.INFO)\n",
    "\n",
    "import numpy as np\n",
    "import pickle\n",
    "import tensorflow as tf\n",
    "from tensorflow.keras.preprocessing.sequence import pad_sequences"
   ]
  },
  {
   "cell_type": "code",
   "execution_count": 31,
   "id": "95a1f3c4-bc39-46cd-89f6-ac20831368e8",
   "metadata": {},
   "outputs": [],
   "source": [
    "def load_model_and_vocabulary(model_path, vocab_path):\n",
    "    model = tf.keras.models.load_model(model_path)\n",
    "    with open(vocab_path, \"rb\") as file:\n",
    "        vocabulary = pickle.load(file)\n",
    "    return model, vocabulary\n",
    "\n",
    "\n",
    "def preprocess_text(text: str) -> str:\n",
    "    text = text.replace(\"\\n\", \" \")\n",
    "    text = \" \".join(text.strip().split())\n",
    "    return text\n",
    "\n",
    "def generate_sentence(model, vocabulary, input_sentence, min_words=10, max_word=100, temperature=1):\n",
    "    reverse_vocabulary = {v: k for k, v in vocabulary.items()}\n",
    "    input_sentence = preprocess_text(input_sentence)\n",
    "\n",
    "    word_count = len(input_sentence.split())\n",
    "    \n",
    "    while word_count <= min_words:\n",
    "        tokenized_sentence = [vocabulary.get(token, vocabulary['<OOV>']) for token in input_sentence.split()]\n",
    "        padded_sentence = pad_sequences([tokenized_sentence], maxlen=n_max, padding='pre', value=vocabulary['<PAD>'])\n",
    "\n",
    "        predictions = model.predict(padded_sentence, verbose=3)[0]\n",
    "        predictions[0] = 0\n",
    "        predictions[1] = 0\n",
    "        predictions = np.array([np.power(p, 1 / temperature) for p in predictions])\n",
    "        predictions = predictions / np.sum(predictions)\n",
    "    \n",
    "\n",
    "        next_word_idx = np.random.choice(range(len(predictions)), p=predictions)\n",
    "        next_word = reverse_vocabulary.get(next_word_idx, '<OOV>')\n",
    "\n",
    "        input_sentence += ' ' + next_word\n",
    "        \n",
    "        word_count = len(input_sentence.split())\n",
    "        if word_count > min_words and input_sentence[-1] not in [\".\", \"!\", \"?\"]:\n",
    "            min_words += 1\n",
    "            \n",
    "        if word_count >= max_word:\n",
    "            return input_sentence\n",
    "\n",
    "    return input_sentence"
   ]
  },
  {
   "cell_type": "code",
   "execution_count": 29,
   "id": "7dbf7daa-bb23-45a4-8525-1b01c6c414b7",
   "metadata": {},
   "outputs": [],
   "source": [
    "model_path = \"../LSTM_LM3/\"\n",
    "vocab_path = \"../vocab.pickle\"\n",
    "n_max = 10\n",
    "nb_to_generate = 10\n",
    "\n",
    "model, vocabulary = load_model_and_vocabulary(model_path, vocab_path)"
   ]
  },
  {
   "cell_type": "code",
   "execution_count": 34,
   "id": "6c23d058-1bfb-4ba5-b3e7-614df317ace6",
   "metadata": {},
   "outputs": [
    {
     "name": "stderr",
     "output_type": "stream",
     "text": [
      "INFO:root:J'adore l'eau sur le continent africain, elle est en train de répondre aux défis des autres crises suscitées par les préfets.\n",
      "INFO:root:J'adore l'eau soit généralisée en France. desquelles je voulais à cette situation, en effet, je veux un problème, c'est de la clarté et la coopération décentralisée, équilibrée, inventive, dépoussiérée, dépoussiérée des racismes et de leur compagnonnage le Taoiseach irlandais et la France qui soutient, des CNR thématiques, comme à la fois de cette compétitivité en février 2020, mais à la fois mon amitié : notre langue.\n",
      "INFO:root:J'adore l'eau sur le terrain des retraites de France qui ont été en commun de manière dans le Pacifique, je dirais, surtout à la fois le logement et en donnant un pays.\n",
      "INFO:root:J'adore l'eau ou cette émotion de vie ou de désordre. Joseph Ki-Zerbo à ce titre, que je souhaite que nous avons vocation, à 15% pour inscrire nos intérêts et qui permettent aussi de prendre des droits de provenance sur les prochains mois, qui, au fond, à militariser l'énergie.\n",
      "INFO:root:J'adore l'eau ou Kahnweiler et c’était aussi un travail entre services de financement et qui est la même vision qui est plus secs et donc il faut aller plus de 11 % par rapport à la résilience immédiate et où je salue de manière très concrète.\n",
      "INFO:root:J'adore l'eau qui est le nôtre. MUYEMBE pour annoncer ce qu'on appelle le Chips Act et l'Inflation Reduction Act.\n",
      "INFO:root:J'adore l'eau est seulement des partenariats que nous venons d'avoir. célébrer, remerciés.\n",
      "INFO:root:J'adore l'eau ou de la matière de formation de la ville et nous avons revue cette vie et je pense que la capacité de s'autosaisir de nos travaux.\n",
      "INFO:root:J'adore l'eau qui avait bâti leur engagement. dans le réseau de campus de biodiversité et d'hommes qui vont prendre en charge pédiatrique de cette stratégie d'infrastructures sur le plan culturel, éducatif et définir aussi des crises.\n",
      "INFO:root:J'adore l'eau et la France et de l'ambition que nous produirons et évaluent médicalement les contraintes normatives, la Nouvelle-Orléans.\n"
     ]
    }
   ],
   "source": [
    "input_sentence = \"J'adore l'eau\"\n",
    "for i in range(nb_to_generate):\n",
    "    completed_sentence = generate_sentence(model, vocabulary, input_sentence, temperature=0.7)\n",
    "    logging.info(completed_sentence)"
   ]
  },
  {
   "cell_type": "code",
   "execution_count": null,
   "id": "1cadedf0-3167-44e8-b02a-198d9630ee38",
   "metadata": {},
   "outputs": [],
   "source": []
  }
 ],
 "metadata": {
  "kernelspec": {
   "display_name": "NLP",
   "language": "python",
   "name": "nlp"
  },
  "language_info": {
   "codemirror_mode": {
    "name": "ipython",
    "version": 3
   },
   "file_extension": ".py",
   "mimetype": "text/x-python",
   "name": "python",
   "nbconvert_exporter": "python",
   "pygments_lexer": "ipython3",
   "version": "3.9.2"
  }
 },
 "nbformat": 4,
 "nbformat_minor": 5
}
