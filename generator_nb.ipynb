{
 "cells": [
  {
   "cell_type": "code",
   "execution_count": 1,
   "id": "ec2b3011-7763-4756-b908-1b361e5c4798",
   "metadata": {},
   "outputs": [
    {
     "name": "stderr",
     "output_type": "stream",
     "text": [
      "H:\\anaconda3\\envs\\nlp\\lib\\site-packages\\requests\\__init__.py:102: RequestsDependencyWarning: urllib3 (1.26.14) or chardet (5.1.0)/charset_normalizer (2.0.12) doesn't match a supported version!\n",
      "  warnings.warn(\"urllib3 ({}) or chardet ({})/charset_normalizer ({}) doesn't match a supported \"\n"
     ]
    }
   ],
   "source": [
    "import numpy as np\n",
    "import pickle\n",
    "import tensorflow as tf\n",
    "from tensorflow.keras.preprocessing.sequence import pad_sequences"
   ]
  },
  {
   "cell_type": "code",
   "execution_count": 2,
   "id": "a9896ac2-909d-4de3-91ab-cfd8fb4ee4a6",
   "metadata": {},
   "outputs": [],
   "source": [
    "n_max = 10"
   ]
  },
  {
   "cell_type": "code",
   "execution_count": 91,
   "id": "95a1f3c4-bc39-46cd-89f6-ac20831368e8",
   "metadata": {},
   "outputs": [],
   "source": [
    "def load_model_and_vocabulary(model_path, vocab_path):\n",
    "    model = tf.keras.models.load_model(model_path)\n",
    "    with open(vocab_path, \"rb\") as file:\n",
    "        vocabulary = pickle.load(file)\n",
    "    return model, vocabulary\n",
    "\n",
    "\n",
    "def preprocess_text(text: str) -> str:\n",
    "    text = text.replace(\"\\n\", \" \")\n",
    "    text = \" \".join(text.strip().split())\n",
    "    return text\n",
    "\n",
    "def generate_sentence(model, vocabulary, input_sentence, min_words=10, temperature=1):\n",
    "    reverse_vocabulary = {v: k for k, v in vocabulary.items()}\n",
    "    input_sentence = preprocess_text(input_sentence)\n",
    "\n",
    "    word_count = len(input_sentence.split())\n",
    "    \n",
    "    while word_count <= min_words:\n",
    "        tokenized_sentence = [vocabulary.get(token, vocabulary['<OOV>']) for token in input_sentence.split()]\n",
    "        padded_sentence = pad_sequences([tokenized_sentence], maxlen=n_max, padding='pre', value=vocabulary['<PAD>'])\n",
    "\n",
    "        predictions = model.predict(padded_sentence, verbose=3)[0]\n",
    "        predictions[0] = 0\n",
    "        predictions[1] = 0\n",
    "        predictions = np.array([np.power(p, 1 / temperature) for p in predictions])\n",
    "        predictions = predictions / np.sum(predictions)\n",
    "    \n",
    "\n",
    "        next_word_idx = np.random.choice(range(len(predictions)), p=predictions)\n",
    "        next_word = reverse_vocabulary.get(next_word_idx, '<OOV>')\n",
    "\n",
    "        input_sentence += ' ' + next_word\n",
    "        \n",
    "        word_count = len(input_sentence.split())\n",
    "        if word_count > min_words and input_sentence[-1] not in [\".\", \"!\", \"?\"]:\n",
    "            min_words += 1\n",
    "\n",
    "    return input_sentence"
   ]
  },
  {
   "cell_type": "code",
   "execution_count": 7,
   "id": "7dbf7daa-bb23-45a4-8525-1b01c6c414b7",
   "metadata": {},
   "outputs": [],
   "source": [
    "model_path = \"../LSTM_LM_model/\"\n",
    "vocab_path = \"../vocab.pickle\"\n",
    "\n",
    "model, vocabulary = load_model_and_vocabulary(model_path, vocab_path)"
   ]
  },
  {
   "cell_type": "code",
   "execution_count": 92,
   "id": "6c23d058-1bfb-4ba5-b3e7-614df317ace6",
   "metadata": {},
   "outputs": [
    {
     "name": "stdout",
     "output_type": "stream",
     "text": [
      "Phrase complétée: La France a noué cet agenda à jouer. Notre stratégie prend un Messieurs-Dames.\n"
     ]
    }
   ],
   "source": [
    "input_sentence = \"La France\"\n",
    "completed_sentence = generate_sentence(model, vocabulary, input_sentence)\n",
    "print(\"Phrase complétée:\", completed_sentence)"
   ]
  }
 ],
 "metadata": {
  "kernelspec": {
   "display_name": "NLP",
   "language": "python",
   "name": "nlp"
  },
  "language_info": {
   "codemirror_mode": {
    "name": "ipython",
    "version": 3
   },
   "file_extension": ".py",
   "mimetype": "text/x-python",
   "name": "python",
   "nbconvert_exporter": "python",
   "pygments_lexer": "ipython3",
   "version": "3.9.2"
  }
 },
 "nbformat": 4,
 "nbformat_minor": 5
}
